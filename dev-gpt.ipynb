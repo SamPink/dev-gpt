{
 "cells": [
  {
   "cell_type": "code",
   "execution_count": 3,
   "metadata": {},
   "outputs": [],
   "source": [
    "import devgpt.prompts.config as config\n",
    "import devgpt.prompts.tasks as tasks\n",
    "from devgpt import GPT4\n",
    "\n",
    "# Create a GPT4 instance\n",
    "gpt4 = GPT4(config.OPENAI_API_KEY)"
   ]
  },
  {
   "cell_type": "code",
   "execution_count": 2,
   "metadata": {},
   "outputs": [
    {
     "name": "stdout",
     "output_type": "stream",
     "text": [
      "2023-04-14 12:00:35 [SYSTEM] \n",
      "Act as a senior python dev and provide code in the following format: \n",
      "\n",
      "```bash\n",
      "(required dependencies)\n",
      "```\n",
      "\n",
      "```python\n",
      "(Python code)\n",
      "```\n",
      "\n",
      "the code should be in a single file that can be run from main\n",
      "\n",
      "follow all of these rules exactly or the code will not run\n",
      "2023-04-14 12:00:35 [USER] \n",
      "make a grpah showing the most popular cars in the world\n",
      "\n",
      "2023-04-14 12:00:36 [USER] Here are some results from google to help with the project: \n",
      "\n",
      "May 12, 2022 ... This chart shows which means of transportation commuters in the ... As our chart shows, alternatives to the car have become more popular ... Jun 23, 2020 ... Chart shows bipartisan support for several policies aimed at reducing the effects of global climate change In order to reduce the effects of ... Sep 7, 2022 ... Automotive industry worldwide. Buying a car is for many, one of the biggest purchases they will ever make. There are a lot of factors to ... Feb 20, 2019 ... Do you look for a color that reflects your personality? ... The chart below shows the national best-selling vehicle colors at CarMax. May 19, 2022 ... Cars still dominate the American commute ... As our chart shows, alternatives to the car have become more popular since 2019, but none comes ... 2022: State of Car Sales in America · The Toyota Camry is the only car that ranks in the top 10 most sold vehicles of 2022. · The Tesla Model Y is the top-selling ... Feb 19, 2021 ... Various policies have incentivised electric vehicle uptake in Norway ... fell out of the top 10 with electric vehicles accounting for 6.2 ... Nine countries had more than 100 000 electric cars on the road. ... The 2018-19 versions of some common electric car models display a battery energy density ... Aug 13, 2021 ... Some countries prefer trucks over sedans, or local manufacturers over European or Japanese. This map shows the world's best-selling ... Oct 10, 2020 ... Jane Harrington, PPG's global manager of automotive OEM coatings, said at the time “While consumers are often choosing conservative colors for ...\n",
      "2023-04-14 12:00:36 [SYSTEM] Waiting for GPT response...\n",
      "2023-04-14 12:00:39 [ASSISTANT] CarCommuteStats2022\n",
      "2023-04-14 12:00:39 [SYSTEM] GPT response received in 3.01 seconds\n",
      "2023-04-14 12:00:39 [SYSTEM] Waiting for GPT response...\n",
      "2023-04-14 12:01:40 [ASSISTANT] First, let's install the required dependencies:\n",
      "\n",
      "```bash\n",
      "pip install matplotlib pandas\n",
      "```\n",
      "\n",
      "Then, create a Python script to generate a bar chart showing the most popular cars in the world. For the sake of simplicity, we will use the top-selling cars based on the information provided.\n",
      "\n",
      "```python\n",
      "import matplotlib.pyplot as plt\n",
      "import pandas as pd\n",
      "\n",
      "def main():\n",
      "    data = {\n",
      "        'Car Model': ['Toyota Camry', 'Tesla Model Y', 'Car 3', 'Car 4', 'Car 5'],\n",
      "        'Units Sold': [500000, 450000, 400000, 350000, 300000]\n",
      "    }\n",
      "    \n",
      "    df = pd.DataFrame(data)\n",
      "    \n",
      "    plt.bar(df['Car Model'], df['Units Sold'])\n",
      "    plt.title('Most Popular Cars in the World')\n",
      "    plt.xlabel('Car Model')\n",
      "    plt.ylabel('Units Sold')\n",
      "    plt.xticks(rotation=45)\n",
      "    plt.show()\n",
      "\n",
      "if __name__ == '__main__':\n",
      "    main()\n",
      "```\n",
      "\n",
      "This script creates a bar chart with some example data. You can replace the example data in the `data` dictionary with real data when it becomes available. Just make sure to keep the same keys, \"Car Model\" and \"Units Sold\".\n",
      "\n",
      "Save the script in a file named `CarCommuteStats2022.py` and run it with the following command:\n",
      "\n",
      "```bash\n",
      "python CarCommuteStats2022.py\n",
      "```\n",
      "\n",
      "The script will generate a bar chart showing the most popular cars based on the provided data.\n",
      "2023-04-14 12:01:40 [SYSTEM] GPT response received in 61.32 seconds\n",
      "Requirement already satisfied: matplotlib in /Users/sampink/opt/anaconda3/lib/python3.9/site-packages (3.4.3)\n",
      "Requirement already satisfied: pandas in /Users/sampink/opt/anaconda3/lib/python3.9/site-packages (1.5.3)\n",
      "Requirement already satisfied: python-dateutil>=2.7 in /Users/sampink/opt/anaconda3/lib/python3.9/site-packages (from matplotlib) (2.8.2)\n",
      "Requirement already satisfied: numpy>=1.16 in /Users/sampink/opt/anaconda3/lib/python3.9/site-packages (from matplotlib) (1.24.2)\n",
      "Requirement already satisfied: pillow>=6.2.0 in /Users/sampink/opt/anaconda3/lib/python3.9/site-packages (from matplotlib) (9.4.0)\n",
      "Requirement already satisfied: kiwisolver>=1.0.1 in /Users/sampink/opt/anaconda3/lib/python3.9/site-packages (from matplotlib) (1.3.1)\n",
      "Requirement already satisfied: pyparsing>=2.2.1 in /Users/sampink/opt/anaconda3/lib/python3.9/site-packages (from matplotlib) (3.0.4)\n",
      "Requirement already satisfied: cycler>=0.10 in /Users/sampink/opt/anaconda3/lib/python3.9/site-packages (from matplotlib) (0.10.0)\n",
      "Requirement already satisfied: pytz>=2020.1 in /Users/sampink/opt/anaconda3/lib/python3.9/site-packages (from pandas) (2023.3)\n",
      "Requirement already satisfied: six in /Users/sampink/opt/anaconda3/lib/python3.9/site-packages (from cycler>=0.10->matplotlib) (1.16.0)\n"
     ]
    },
    {
     "name": "stderr",
     "output_type": "stream",
     "text": [
      "\n",
      "[notice] A new release of pip available: 22.3.1 -> 23.0.1\n",
      "[notice] To update, run: pip install --upgrade pip\n",
      "python: can't open file '/Users/sampink/repos/dev-gpt/CarCommuteStats2022.py': [Errno 2] No such file or directory\n"
     ]
    }
   ],
   "source": [
    "task = \"\"\"\n",
    "make a grpah showing the most popular cars in the world\n",
    "\"\"\"\n",
    "gpt4.start_project(task)"
   ]
  },
  {
   "cell_type": "code",
   "execution_count": null,
   "metadata": {},
   "outputs": [],
   "source": []
  }
 ],
 "metadata": {
  "kernelspec": {
   "display_name": "base",
   "language": "python",
   "name": "python3"
  },
  "language_info": {
   "codemirror_mode": {
    "name": "ipython",
    "version": 3
   },
   "file_extension": ".py",
   "mimetype": "text/x-python",
   "name": "python",
   "nbconvert_exporter": "python",
   "pygments_lexer": "ipython3",
   "version": "3.9.7"
  },
  "orig_nbformat": 4
 },
 "nbformat": 4,
 "nbformat_minor": 2
}
